{
 "cells": [
  {
   "cell_type": "markdown",
   "id": "e070f7bc",
   "metadata": {},
   "source": [
    "# Churn Project"
   ]
  },
  {
   "cell_type": "markdown",
   "id": "fccf7f3f",
   "metadata": {},
   "source": [
    "## Setup Environment\n",
    "To install all the packages and their dependencies we ran the following commands via bash terminal"
   ]
  },
  {
   "cell_type": "code",
   "execution_count": 2,
   "id": "62d74c12",
   "metadata": {},
   "outputs": [],
   "source": [
    "#$ export ML_PATH=\"$HOME/ml_project\" && mkdir -p $ML_PATH\n",
    "#$ python3 -m pip install --user -U pip\n",
    "#$ python3 -m pip install --user -U virtualenv\n",
    "#$ cd $ML_PATH\n",
    "#$ virtualenv ml_env\n",
    "#$ source ml_env/bin/activate\n",
    "#$ python3 -m pip install -U jupyter matplotlib seaborn numpy pandas scipy scikit-learn bioinfokit statsmodels imblearn\n",
    "#$ python3 -m ipykernel install --user --name=python3\n",
    "#$ jupyter notebook\n",
    "\n",
    "\n",
    "#$ ctrl + c \n",
    "#$ deactivate"
   ]
  },
  {
   "cell_type": "markdown",
   "id": "bce65230",
   "metadata": {},
   "source": [
    "## Download and Load the Data\n",
    "We download the data directly from the DropBox link and load them in the Jupyter workspace as Pandas Dataframe. We than call the .head() method to check the result."
   ]
  },
  {
   "cell_type": "code",
   "execution_count": null,
   "id": "cd7c8741",
   "metadata": {},
   "outputs": [],
   "source": [
    "import os \n",
    "import urllib\n",
    "import pandas as pd\n",
    "\n",
    "DOWNLOAD_URL = 'https://www.dropbox.com/s/7nwimmta836si5f/churn.csv?dl=1'\n",
    "CHURN_PATH = os.path.join(\"dataset\", \"churn\")\n",
    "\n",
    "# Download data directly from Dropbox\n",
    "def fetch_data(download_url=DOWNLOAD_URL, path=CHURN_PATH):\n",
    "    os.makedirs(path, exist_ok=True)\n",
    "    csv_path = os.path.join(path, \"churn.csv\")\n",
    "    urllib.request.urlretrieve(download_url, csv_path)\n",
    "\n",
    "# Load data\n",
    "def load_data(path=CHURN_PATH):\n",
    "    csv_path = os.path.join(path, \"churn.csv\")\n",
    "    return pd.read_csv(csv_path)\n",
    "\n",
    "fetch_data()\n",
    "churn = load_data()\n",
    "\n",
    "# Check result\n",
    "churn.head(3)"
   ]
  },
  {
   "cell_type": "code",
   "execution_count": null,
   "id": "36c6b3c0",
   "metadata": {},
   "outputs": [],
   "source": [
    "# Pop a couple of vars and save to var to use later\n",
    "CLIENTNUM = churn.pop('CLIENTNUM')\n",
    "Unamed = churn.pop('Unnamed: 0')\n",
    "\n",
    "churn.head(3)"
   ]
  },
  {
   "cell_type": "code",
   "execution_count": null,
   "id": "21bfd672",
   "metadata": {},
   "outputs": [],
   "source": [
    "churn1=churn"
   ]
  },
  {
   "cell_type": "markdown",
   "id": "85c63a81",
   "metadata": {},
   "source": [
    "## Data Exploration\n",
    "We ran a few methods just to get a quick grasp of the data. Spcifically we wanted ot inspect:\n",
    "\n",
    "- The number of columns and rows\n",
    "\n",
    "- The variables and their data types\n",
    "\n",
    "- The number of non-null values\n",
    "\n",
    "- The categories for each categorical feature\n",
    "\n",
    "- The descriptive statistics for the numerical variables"
   ]
  },
  {
   "cell_type": "code",
   "execution_count": null,
   "id": "73655b69",
   "metadata": {},
   "outputs": [],
   "source": [
    "churn.shape"
   ]
  },
  {
   "cell_type": "code",
   "execution_count": null,
   "id": "0a108e2c",
   "metadata": {
    "scrolled": true
   },
   "outputs": [],
   "source": [
    "# Quick vars description\n",
    "churn.info()"
   ]
  },
  {
   "cell_type": "code",
   "execution_count": null,
   "id": "b66d1eb5",
   "metadata": {},
   "outputs": [],
   "source": [
    "# Value counts on categorical vars\n",
    "not_num = ['Attrition_Flag', 'Gender', 'Education_Level', 'Marital_Status', 'Income_Category', 'Card_Category']\n",
    "\n",
    "for var in not_num:\n",
    "    print(churn[var].value_counts())\n",
    "    print('\\n')"
   ]
  },
  {
   "cell_type": "code",
   "execution_count": null,
   "id": "bdbb1cc1",
   "metadata": {},
   "outputs": [],
   "source": [
    "# Basic descriptive stats\n",
    "churn.describe()"
   ]
  },
  {
   "cell_type": "markdown",
   "id": "12a5f480",
   "metadata": {},
   "source": [
    "## Plots\n",
    "Below we plot:\n",
    "\n",
    "- the histograms of all the numerical variables in the dataset and we replot those that show artifacts or outliers to further inspect (Customer_Age, Months_on_Book)\n",
    "\n",
    "- the target variable distribution via barplot\n",
    "\n",
    "- the barplot of all the categorical variables\n",
    "\n",
    "- the kde curves of Existing and Attrited customers for each variable"
   ]
  },
  {
   "cell_type": "markdown",
   "id": "a4d13fde",
   "metadata": {},
   "source": [
    "### Histograms"
   ]
  },
  {
   "cell_type": "code",
   "execution_count": null,
   "id": "16be7604",
   "metadata": {
    "scrolled": true
   },
   "outputs": [],
   "source": [
    "%matplotlib inline\n",
    "import matplotlib.pyplot as plt\n",
    "\n",
    "# Lets plot a hist for each numerical attribute\n",
    "churn.hist(bins=50, figsize=(15,20))\n",
    "plt.show()"
   ]
  },
  {
   "cell_type": "markdown",
   "id": "45b7f489",
   "metadata": {},
   "source": [
    "### Futher analysis from hists insights"
   ]
  },
  {
   "cell_type": "code",
   "execution_count": null,
   "id": "c1912264",
   "metadata": {},
   "outputs": [],
   "source": [
    "# COSTUMER AGE \n",
    "# find and fix missing values (discovered if capped/preprocessed)\n",
    "\n",
    "count = churn['Customer_Age'].value_counts()\n",
    "min_age = churn['Customer_Age'].min()\n",
    "max_age = churn['Customer_Age'].max()\n",
    "\n",
    "# Print missing values if any between min and max\n",
    "for i in range(min_age,max_age):\n",
    "    if i not in count:\n",
    "        print(i)\n",
    "\n",
    "# Lets replot a better hist\n",
    "plt.hist(x = churn.Customer_Age, bins = 100, color = 'green')\n",
    "plt.title('Costumers Age')\n",
    "plt.xlabel('Ages')\n",
    "plt.ylabel('Count')\n",
    "plt.show()\n",
    "\n",
    "# It probably was a graphical artifact"
   ]
  },
  {
   "cell_type": "code",
   "execution_count": null,
   "id": "a748602e",
   "metadata": {},
   "outputs": [],
   "source": [
    "# OUTLIERS \n",
    "# Months on book outlier\n",
    "plt.hist(x = churn.Months_on_book, bins = 100, color = 'green')\n",
    "plt.title('Months on book')\n",
    "plt.xlabel('N of months')\n",
    "plt.ylabel('Count')\n",
    "plt.show()\n",
    "\n",
    "count = churn['Months_on_book'].value_counts()\n",
    "count\n",
    "# 36 months on book - may be an outlier but since it is exactly a 3 year period it might just be due to 3 years promo or plan\n",
    "\n",
    "# CROSS TABLE con attrited - quanti ce ne sono che poi se ne sono andati\n",
    "cross = pd.crosstab(churn['Months_on_book'],churn['Attrition_Flag'])\n",
    "#cross # 430 costumers left after 36 months"
   ]
  },
  {
   "cell_type": "markdown",
   "id": "8d17c5fb",
   "metadata": {},
   "source": [
    "### Plot of Target Distribution"
   ]
  },
  {
   "cell_type": "code",
   "execution_count": null,
   "id": "aea27020",
   "metadata": {
    "scrolled": true
   },
   "outputs": [],
   "source": [
    "import seaborn as sns\n",
    "\n",
    "def bar_plot(df,column):    \n",
    "    ax = sns.countplot(y=column, data=df)\n",
    "    plt.title('{0} Percentage'.format(column))\n",
    "    plt.xlabel('Count')\n",
    "    total = len(df[column])\n",
    "    for p in ax.patches:\n",
    "        percentage = '{:.1f}%'.format(100 * p.get_width()/total)\n",
    "        x = p.get_x() + p.get_width() + 0.02\n",
    "        y = p.get_y() + p.get_height()/2\n",
    "        ax.annotate(percentage, (x, y))\n",
    "    plt.show()\n",
    "    \n",
    "bar_plot(churn, \"Attrition_Flag\")"
   ]
  },
  {
   "cell_type": "markdown",
   "id": "493073f6",
   "metadata": {},
   "source": [
    "### Categorical variables plots"
   ]
  },
  {
   "cell_type": "code",
   "execution_count": null,
   "id": "28553334",
   "metadata": {},
   "outputs": [],
   "source": [
    "for var in not_num:\n",
    "    bar_plot(churn, var)"
   ]
  },
  {
   "cell_type": "code",
   "execution_count": null,
   "id": "4e8ef374",
   "metadata": {
    "scrolled": true
   },
   "outputs": [],
   "source": [
    "# INCOME CATEGORY\n",
    "# These categories are not in ORDINAL ORDER\n",
    "\n",
    "import seaborn as sns\n",
    "\n",
    "# Hist\n",
    "plt.hist(x = churn.Income_Category, bins = 20, color = 'blue')\n",
    "plt.title('Income Category')\n",
    "plt.xlabel('Category')\n",
    "plt.xticks(rotation=30)\n",
    "plt.ylabel('Count')\n",
    "sns.despine(top=True, right=True, left=False, bottom=False)\n",
    "plt.show()"
   ]
  },
  {
   "cell_type": "markdown",
   "id": "6af795f9",
   "metadata": {},
   "source": [
    "### Kde of numerical vars"
   ]
  },
  {
   "cell_type": "code",
   "execution_count": null,
   "id": "2f1febaa",
   "metadata": {},
   "outputs": [],
   "source": [
    "def kdeplot(feature, hist, kde):\n",
    "    plt.figure(figsize=(10, 5))\n",
    "    plt.title(\"Plot for {}\".format(feature))\n",
    "    ax0 = sns.distplot(churn[churn['Attrition_Flag'] == 'Existing Customer'][feature], hist=hist, kde=kde, \n",
    "             color = 'darkblue',  label= 'Existing Customer',\n",
    "             hist_kws={'edgecolor':'black'},\n",
    "             kde_kws={'linewidth': 3})\n",
    "    ax1 = sns.distplot(churn[churn['Attrition_Flag'] == 'Attrited Customer'][feature], hist=hist, kde=kde, \n",
    "             color = 'orange',  label= 'Attrited Customer',\n",
    "             hist_kws={'edgecolor':'black'},\n",
    "             kde_kws={'linewidth': 3})\n",
    "    #plt.savefig('kde.png')\n",
    "    plt.legend()\n",
    "    \n",
    "attributes = [\"Customer_Age\", \"Dependent_count\", \"Months_on_book\", \"Total_Relationship_Count\", \n",
    "              \"Months_Inactive_12_mon\", \"Contacts_Count_12_mon\", \"Credit_Limit\", \"Total_Trans_Amt\", \n",
    "             \"Total_Trans_Ct\", \"Avg_Utilization_Ratio\"]\n",
    "\n",
    "for attr in attributes:\n",
    "    kdeplot(attr, hist = False, kde = True)\n"
   ]
  },
  {
   "cell_type": "markdown",
   "id": "71bd72e6",
   "metadata": {},
   "source": [
    "## Cross Tables\n",
    "We will compute crosstables mainly between the target variable, Attrition_Flag, and the other categorical variables. We also selected a few interestring continuos variables and cut them them in categories to make the crosstables interpretable."
   ]
  },
  {
   "cell_type": "code",
   "execution_count": null,
   "id": "c272614a",
   "metadata": {},
   "outputs": [],
   "source": [
    "# Lets create a copy of the dataset \n",
    "churn0 = churn.copy()\n",
    "\n",
    "# Cross table function\n",
    "def cross_prop(var):\n",
    "    cross = pd.crosstab(churn0[var],churn0['Attrition_Flag'])\n",
    "    prop = cross['Attrited Customer']/cross['Existing Customer'] # Check for prevalence of categories in attrited\n",
    "    return cross, prop\n",
    "\n",
    "# Plot cross prop\n",
    "def plot_cross_prop(cross):\n",
    "    return cross.div(cross.sum(1).astype(float), axis=0).plot(kind=\"bar\", stacked=True, figsize=(6, 6))"
   ]
  },
  {
   "cell_type": "markdown",
   "id": "ae5383c1",
   "metadata": {},
   "source": [
    "### Categorical variables"
   ]
  },
  {
   "cell_type": "code",
   "execution_count": null,
   "id": "207d7b4b",
   "metadata": {},
   "outputs": [],
   "source": [
    "# Income_Category - Attrition_Flag\n",
    "cross, prop = cross_prop('Income_Category')\n",
    "print(cross)\n",
    "print('\\n')\n",
    "print(prop)"
   ]
  },
  {
   "cell_type": "code",
   "execution_count": null,
   "id": "178b8c65",
   "metadata": {},
   "outputs": [],
   "source": [
    "# Card_Category - Attrition_Flag\n",
    "cross, prop = cross_prop('Card_Category')\n",
    "print(cross)\n",
    "print('\\n')\n",
    "print(prop)\n",
    "print(\"\\n\\033[1mThere is a slight prevalence of Platinum and Gold users in the attrited costumers\\033[0m\")\n",
    "\n",
    "# Plot\n",
    "plot_cross_prop(cross)"
   ]
  },
  {
   "cell_type": "code",
   "execution_count": null,
   "id": "cede0bd2",
   "metadata": {},
   "outputs": [],
   "source": [
    "# Gender - Attrition_Flag\n",
    "cross, prop = cross_prop('Gender')\n",
    "print(prop)\n",
    "print(\"\\n\\033[1mThere is a negligible prevalence of Females among the attrited costumers\\033[0m\")"
   ]
  },
  {
   "cell_type": "code",
   "execution_count": null,
   "id": "69fbf5a2",
   "metadata": {},
   "outputs": [],
   "source": [
    "# Educational Level - Attrition_Flag\n",
    "cross, prop = cross_prop('Education_Level')\n",
    "print(prop)\n",
    "print(\"\\n\\033[1mAttrition seems slightly higher among Doctorate\\033[0m\")\n",
    "\n",
    "# Plot\n",
    "plot_cross_prop(cross)"
   ]
  },
  {
   "cell_type": "code",
   "execution_count": null,
   "id": "a3c45173",
   "metadata": {},
   "outputs": [],
   "source": [
    "# Marital_Status - Attrition_Flag\n",
    "cross, prop = cross_prop('Marital_Status')\n",
    "print(prop)"
   ]
  },
  {
   "cell_type": "markdown",
   "id": "f25d0f29",
   "metadata": {},
   "source": [
    "### Continuos variables"
   ]
  },
  {
   "cell_type": "code",
   "execution_count": null,
   "id": "ccddf5c1",
   "metadata": {},
   "outputs": [],
   "source": [
    "import numpy as np\n",
    "\n",
    "# Quantile-based discretization\n",
    "def quantcut(var):\n",
    "    churn0[var] =  pd.qcut(\n",
    "        churn0[var],  # Column to bin\n",
    "        6)           # Number of quantiles\n",
    "    return churn0[var]"
   ]
  },
  {
   "cell_type": "code",
   "execution_count": null,
   "id": "05d57c87",
   "metadata": {},
   "outputs": [],
   "source": [
    "churn0.head(3)"
   ]
  },
  {
   "cell_type": "code",
   "execution_count": null,
   "id": "353c6cb7",
   "metadata": {},
   "outputs": [],
   "source": [
    "# Age\n",
    "churn0['Customer_Age'] = quantcut('Customer_Age')\n",
    "cross, prop = cross_prop('Customer_Age')\n",
    "\n",
    "print(prop)"
   ]
  },
  {
   "cell_type": "code",
   "execution_count": null,
   "id": "6b08b1a5",
   "metadata": {},
   "outputs": [],
   "source": [
    "# Credit Limit\n",
    "churn0['Credit_Limit'] = quantcut('Credit_Limit')\n",
    "cross, prop = cross_prop('Credit_Limit')\n",
    "print(cross)\n",
    "print('\\n')\n",
    "print(prop)"
   ]
  },
  {
   "cell_type": "code",
   "execution_count": null,
   "id": "b8296b5b",
   "metadata": {},
   "outputs": [],
   "source": [
    "# Total_Trans_Amt\n",
    "churn0['Total_Trans_Amt'] = quantcut('Total_Trans_Amt')\n",
    "cross, prop = cross_prop('Total_Trans_Amt')\n",
    "\n",
    "print(prop)"
   ]
  },
  {
   "cell_type": "markdown",
   "id": "8d1c8333",
   "metadata": {},
   "source": [
    "## Train-Test Split\n",
    "Here we train-test split just to be able to run the correlation analyisis on the train set alone."
   ]
  },
  {
   "cell_type": "markdown",
   "id": "9332af9e",
   "metadata": {},
   "source": [
    "### Plain\n"
   ]
  },
  {
   "cell_type": "code",
   "execution_count": null,
   "id": "d5973bf5",
   "metadata": {},
   "outputs": [],
   "source": [
    "# Classic sklearn split\n",
    "from sklearn.model_selection import train_test_split\n",
    "\n",
    "train_set, test_set = train_test_split(churn, test_size=0.2, random_state=42)\n",
    "print(\"\\033[1mTrain:\\033[0m\", len(train_set), \"\\t\\033[1mTest:\\033[0m\", len(test_set))"
   ]
  },
  {
   "cell_type": "markdown",
   "id": "ca35d762",
   "metadata": {},
   "source": [
    "### Stratified split based on Attrition Flag"
   ]
  },
  {
   "cell_type": "code",
   "execution_count": null,
   "id": "d8a56ec9",
   "metadata": {},
   "outputs": [],
   "source": [
    "# Compute STRATIFIED SAMPLING on ATTRITION FLAG\n",
    "from sklearn.model_selection import StratifiedShuffleSplit\n",
    "\n",
    "split = StratifiedShuffleSplit(n_splits=1, test_size=.2, random_state=42)\n",
    "\n",
    "for train_index, test_index in split.split(churn, churn[\"Attrition_Flag\"]):\n",
    "    strat_train_set = churn.loc[train_index]\n",
    "    strat_test_set = churn.loc[test_index]\n",
    "    \n",
    "strat_train_set.head(5)"
   ]
  },
  {
   "cell_type": "markdown",
   "id": "01bfca69",
   "metadata": {},
   "source": [
    "## Correlation analysis\n",
    "-------------------------------------\n",
    "### Pearson's R\n",
    "We compute here the correlation matrix (r pearson coefficients) for all the varibles in the dataset. We had to factorize the categorical variables to be able to run this analysis on them as well. We ran this analysis on both the full dataset and on the sole train set. Moreover we recomputed the correlation matrix after creating a new featue called Amount per transaction (Amt_per_Trans) which consists of the ratio between Trans_Amt and Trans_Count. Finally we recomputed the matrix after deleting all the rows presenting \"Unkown\" values."
   ]
  },
  {
   "cell_type": "code",
   "execution_count": null,
   "id": "f12e4d75",
   "metadata": {},
   "outputs": [],
   "source": [
    "import seaborn as sns\n",
    "\n",
    "#churn = train_set.copy()\n",
    "\n",
    "# Compute corr matrix\n",
    "churn_corr = churn.apply(lambda x: pd.factorize(x)[0])   # factorize to include categorical\n",
    "corr_matrix = churn_corr.corr()\n",
    "\n",
    "plt.figure(figsize=(12,8))\n",
    "sns.heatmap(corr_matrix, cmap=\"YlGnBu\", annot=True)  # alternative: cmap='Blues_r'"
   ]
  },
  {
   "cell_type": "code",
   "execution_count": null,
   "id": "a076806e",
   "metadata": {},
   "outputs": [],
   "source": [
    "# Check correlation scores for Attrition\n",
    "corr_matrix[\"Attrition_Flag\"].sort_values(ascending=False)"
   ]
  },
  {
   "cell_type": "markdown",
   "id": "be0fbe3c",
   "metadata": {},
   "source": [
    "### Create new attribute and recompute correlation\n"
   ]
  },
  {
   "cell_type": "code",
   "execution_count": null,
   "id": "873f8333",
   "metadata": {
    "scrolled": true
   },
   "outputs": [],
   "source": [
    "# Total trans amt and count\n",
    "churn[\"Amt_Per_Trans\"] = churn[\"Total_Trans_Amt\"] / churn[\"Total_Trans_Ct\"] \n",
    "#churn[\"Card*Credit\"] = churn[\"Card_ordinal\"] * churn[\"Credit_Limit\"]\n",
    "\n",
    "# Compute corr matrix\n",
    "churn_corr = churn.apply(lambda x: pd.factorize(x)[0])   # factorize to include categorical\n",
    "corr_matrix = churn_corr.corr()\n",
    "\n",
    "plt.figure(figsize=(12,8))\n",
    "sns.heatmap(corr_matrix, cmap=\"YlGnBu\", annot=True)  # alternative: cmap='Blues_r'"
   ]
  },
  {
   "cell_type": "code",
   "execution_count": null,
   "id": "f1d2e358",
   "metadata": {
    "scrolled": false
   },
   "outputs": [],
   "source": [
    "corr_matrix[\"Attrition_Flag\"].sort_values(ascending=False)"
   ]
  },
  {
   "cell_type": "code",
   "execution_count": null,
   "id": "41fcd93a",
   "metadata": {},
   "outputs": [],
   "source": [
    "# Replace Unkown with NAN \n",
    "import numpy as np\n",
    "\n",
    "unkown_vars = ['Attrition_Flag','Education_Level', 'Marital_Status', 'Income_Category']\n",
    "\n",
    "def replace_unkown(dataset):\n",
    "\n",
    "    for var in unkown_vars:\n",
    "        if var in dataset.columns:\n",
    "            dataset[var] = dataset[var].replace(\"Unknown\", np.NaN)\n",
    "    return dataset.dropna()\n",
    "\n",
    "data_full = replace_unkown(churn).reset_index(drop=True)\n",
    "\n",
    "# Compute corr matrix\n",
    "churn_corr = data_full.apply(lambda x: pd.factorize(x)[0])   # factorize to include categorical\n",
    "corr_matrix = churn_corr.corr()\n",
    "\n",
    "plt.figure(figsize=(12,8))\n",
    "sns.heatmap(corr_matrix, cmap=\"YlGnBu\", annot=True)"
   ]
  },
  {
   "cell_type": "markdown",
   "id": "9a5a9ad1",
   "metadata": {},
   "source": [
    "## Chi-squared test\n",
    "We used Pearson's Chi-Squared Test and Likelihood Chi-Squared Test to test for the dependence between “Attrition_Flag” and the others categorical variables in the dataset. We used a function in the python package \"bioinfokit.analys\" to perform these tests. The output of the function provides Degrees of Freedom and p-values.\n",
    "In order to perform the Chi_Squared Test of Independence we used cross tables between our target variable “Attrition_Flag ” and each of that categorical variables."
   ]
  },
  {
   "cell_type": "code",
   "execution_count": null,
   "id": "9d19366b",
   "metadata": {},
   "outputs": [],
   "source": [
    "from bioinfokit.analys import stat\n",
    "categorial_var=[\"Gender\",\"Education_Level\",\"Marital_Status\",\"Card_Category\",\"Income_Category\"]\n",
    "for cat in categorial_var:\n",
    "    print(cat)\n",
    "    cross = pd.crosstab(churn1['Attrition_Flag'],churn1[cat])\n",
    "    #print(cross)\n",
    "    res = stat()\n",
    "    res.chisq(df=cross)\n",
    "    print(res.summary)"
   ]
  },
  {
   "cell_type": "code",
   "execution_count": null,
   "id": "3ab6fcbe",
   "metadata": {},
   "outputs": [],
   "source": [
    "unkown_vars = ['Education_Level', 'Marital_Status', 'Income_Category']\n",
    "\n",
    "def replace_unkown(dataset, var):\n",
    "    if var in dataset.columns:\n",
    "        dataset[var] = dataset[var].replace(\"Unknown\", np.NaN)\n",
    "    return dataset.dropna()\n",
    "\n",
    "for var in unkown_vars:\n",
    "    print(var)\n",
    "    data_full = replace_unkown(churn1, var).reset_index(drop=True)\n",
    "    cross = pd.crosstab(data_full['Attrition_Flag'],data_full[var])\n",
    "    #print(cross)\n",
    "    res = stat()\n",
    "    res.chisq(df=cross)\n",
    "    print(res.summary)"
   ]
  },
  {
   "cell_type": "markdown",
   "id": "e1e314da",
   "metadata": {},
   "source": [
    "## ANOVA test\n",
    "We performed the Anova test to analyzes the relationship between the categorical target variable and the individual quantitative variables of the dataset.We used a function from the python package \"statsmodel” that runs a F test. As a way to visualize and better understand the relationship between “Attrition_Flag” and quantitative variables, we also plotted boxplots."
   ]
  },
  {
   "cell_type": "code",
   "execution_count": null,
   "id": "2a7f99f9",
   "metadata": {},
   "outputs": [],
   "source": [
    "import statsmodels.api as sm\n",
    "from statsmodels.formula.api import ols\n",
    "\n",
    "quantitative_var=[\"Customer_Age\",\"Dependent_count\",\"Months_on_book\",\"Total_Relationship_Count\",\"Months_Inactive_12_mon\",\"Contacts_Count_12_mon\",\"Credit_Limit\",\"Total_Trans_Amt\",\"Total_Trans_Ct\",\"Avg_Utilization_Ratio\"]\n",
    "for var in quantitative_var: \n",
    "    reg=var+'~ Attrition_Flag'\n",
    "    mod = ols(reg,data=churn1).fit()                \n",
    "    aov_table = sm.stats.anova_lm(mod, typ=2)\n",
    "    print(var)\n",
    "    print(aov_table)\n",
    "    print(\"\\n\")\n",
    "    "
   ]
  },
  {
   "cell_type": "markdown",
   "id": "3a827168",
   "metadata": {},
   "source": [
    "### Box Plots"
   ]
  },
  {
   "cell_type": "code",
   "execution_count": null,
   "id": "348fed01",
   "metadata": {},
   "outputs": [],
   "source": [
    "for var in quantitative_var:\n",
    "    plot=churn1.boxplot(var,by=\"Attrition_Flag\")\n",
    "    print(plot)"
   ]
  }
 ],
 "metadata": {
  "kernelspec": {
   "display_name": "Python 3 (ipykernel)",
   "language": "python",
   "name": "python3"
  },
  "language_info": {
   "codemirror_mode": {
    "name": "ipython",
    "version": 3
   },
   "file_extension": ".py",
   "mimetype": "text/x-python",
   "name": "python",
   "nbconvert_exporter": "python",
   "pygments_lexer": "ipython3",
   "version": "3.8.10"
  }
 },
 "nbformat": 4,
 "nbformat_minor": 5
}
